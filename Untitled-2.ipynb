{
 "cells": [
  {
   "cell_type": "code",
   "execution_count": 2,
   "id": "699bed66",
   "metadata": {},
   "outputs": [
    {
     "name": "stdout",
     "output_type": "stream",
     "text": [
      "  Age;Gender;Ethnicity;EducationLevel;BMI;Smoking;AlcoholConsumption;PhysicalActivity;DietQuality;SleepQuality;FamilyHistoryAlzheimers;CardiovascularDisease;Diabetes;Depression;HeadInjury;Hypertension;SystolicBP;DiastolicBP;CholesterolTotal;CholesterolLDL;CholesterolHDL;CholesterolTriglycerides;MMSE;FunctionalAssessment;MemoryComplaints;BehavioralProblems;ADL;Confusion;Disorientation;PersonalityChanges;DifficultyCompletingTasks;Forgetfulness;Diagnosis\n",
      "0  73;0;0;2;22.92774923;0;13.29721773;6.327112474...                                                                                                                                                                                                                                                                                                                                                                                                                   \n",
      "1  89;0;0;0;26.82768119;0;4.542523818;7.61988454;...                                                                                                                                                                                                                                                                                                                                                                                                                   \n",
      "2  73;0;3;1;17.79588244;0;19.55508453;7.844987791...                                                                                                                                                                                                                                                                                                                                                                                                                   \n",
      "3  74;1;0;1;33.80081704;1;12.20926555;8.42800135;...                                                                                                                                                                                                                                                                                                                                                                                                                   \n",
      "4  89;0;0;0;20.71697383;0;18.45435609;6.310460689...                                                                                                                                                                                                                                                                                                                                                                                                                   \n",
      "5  86;1;1;1;30.62688555;0;4.140143784;0.211061631...                                                                                                                                                                                                                                                                                                                                                                                                                   \n",
      "6  68;0;3;2;38.38762186;1;0.646047271;9.25769491;...                                                                                                                                                                                                                                                                                                                                                                                                                   \n",
      "7  75;0;0;1;18.77600941;0;13.72382571;4.649450668...                                                                                                                                                                                                                                                                                                                                                                                                                   \n",
      "8  72;1;1;0;27.83318838;0;12.16784763;1.531359788...                                                                                                                                                                                                                                                                                                                                                                                                                   \n",
      "9  87;0;0;0;35.45630173;1;16.02868824;6.440772687...                                                                                                                                                                                                                                                                                                                                                                                                                   \n"
     ]
    }
   ],
   "source": [
    "import pandas as pd\n",
    "\n",
    "# Cargar el dataset desde un archivo CSV (ajusta la ruta al archivo)\n",
    "df = pd.read_csv('alzheimers_disease_data.csv')\n",
    "\n",
    "# Verifica los primeros registros de tu DataFrame\n",
    "print(df.head(10))"
   ]
  },
  {
   "cell_type": "code",
   "execution_count": 3,
   "id": "cb10fb15",
   "metadata": {},
   "outputs": [
    {
     "name": "stdout",
     "output_type": "stream",
     "text": [
      "Index(['Age;Gender;Ethnicity;EducationLevel;BMI;Smoking;AlcoholConsumption;PhysicalActivity;DietQuality;SleepQuality;FamilyHistoryAlzheimers;CardiovascularDisease;Diabetes;Depression;HeadInjury;Hypertension;SystolicBP;DiastolicBP;CholesterolTotal;CholesterolLDL;CholesterolHDL;CholesterolTriglycerides;MMSE;FunctionalAssessment;MemoryComplaints;BehavioralProblems;ADL;Confusion;Disorientation;PersonalityChanges;DifficultyCompletingTasks;Forgetfulness;Diagnosis'], dtype='object')\n"
     ]
    }
   ],
   "source": [
    "print(df.columns)"
   ]
  },
  {
   "cell_type": "code",
   "execution_count": 4,
   "id": "286ab3bc",
   "metadata": {},
   "outputs": [
    {
     "name": "stdout",
     "output_type": "stream",
     "text": [
      "  Age;Gender;Ethnicity;EducationLevel;BMI;Smoking;AlcoholConsumption;PhysicalActivity;DietQuality;SleepQuality;FamilyHistoryAlzheimers;CardiovascularDisease;Diabetes;Depression;HeadInjury;Hypertension;SystolicBP;DiastolicBP;CholesterolTotal;CholesterolLDL;CholesterolHDL;CholesterolTriglycerides;MMSE;FunctionalAssessment;MemoryComplaints;BehavioralProblems;ADL;Confusion;Disorientation;PersonalityChanges;DifficultyCompletingTasks;Forgetfulness;Diagnosis\n",
      "0  73;0;0;2;22.92774923;0;13.29721773;6.327112474...                                                                                                                                                                                                                                                                                                                                                                                                                   \n",
      "1  89;0;0;0;26.82768119;0;4.542523818;7.61988454;...                                                                                                                                                                                                                                                                                                                                                                                                                   \n",
      "2  73;0;3;1;17.79588244;0;19.55508453;7.844987791...                                                                                                                                                                                                                                                                                                                                                                                                                   \n",
      "3  74;1;0;1;33.80081704;1;12.20926555;8.42800135;...                                                                                                                                                                                                                                                                                                                                                                                                                   \n",
      "4  89;0;0;0;20.71697383;0;18.45435609;6.310460689...                                                                                                                                                                                                                                                                                                                                                                                                                   \n"
     ]
    }
   ],
   "source": [
    "import pandas as pd\n",
    "\n",
    "# Cargar el archivo CSV en un DataFrame\n",
    "data = pd.read_csv('alzheimers_disease_data.csv')\n",
    "\n",
    "# Verifica las primeras filas para asegurarte de que los datos se cargaron correctamente\n",
    "print(data.head())\n"
   ]
  },
  {
   "cell_type": "code",
   "execution_count": 5,
   "id": "9a16e235",
   "metadata": {},
   "outputs": [
    {
     "name": "stdout",
     "output_type": "stream",
     "text": [
      "Index(['Age;Gender;Ethnicity;EducationLevel;BMI;Smoking;AlcoholConsumption;PhysicalActivity;DietQuality;SleepQuality;FamilyHistoryAlzheimers;CardiovascularDisease;Diabetes;Depression;HeadInjury;Hypertension;SystolicBP;DiastolicBP;CholesterolTotal;CholesterolLDL;CholesterolHDL;CholesterolTriglycerides;MMSE;FunctionalAssessment;MemoryComplaints;BehavioralProblems;ADL;Confusion;Disorientation;PersonalityChanges;DifficultyCompletingTasks;Forgetfulness;Diagnosis'], dtype='object')\n"
     ]
    }
   ],
   "source": [
    "print(data.columns)"
   ]
  },
  {
   "cell_type": "code",
   "execution_count": 6,
   "id": "6b6e75cd",
   "metadata": {},
   "outputs": [
    {
     "name": "stdout",
     "output_type": "stream",
     "text": [
      "  Age;Gender;Ethnicity;EducationLevel;BMI;Smoking;AlcoholConsumption;PhysicalActivity;DietQuality;SleepQuality;FamilyHistoryAlzheimers;CardiovascularDisease;Diabetes;Depression;HeadInjury;Hypertension;SystolicBP;DiastolicBP;CholesterolTotal;CholesterolLDL;CholesterolHDL;CholesterolTriglycerides;MMSE;FunctionalAssessment;MemoryComplaints;BehavioralProblems;ADL;Confusion;Disorientation;PersonalityChanges;DifficultyCompletingTasks;Forgetfulness;Diagnosis\n",
      "0  73;0;0;2;22.92774923;0;13.29721773;6.327112474...                                                                                                                                                                                                                                                                                                                                                                                                                   \n",
      "1  89;0;0;0;26.82768119;0;4.542523818;7.61988454;...                                                                                                                                                                                                                                                                                                                                                                                                                   \n",
      "2  73;0;3;1;17.79588244;0;19.55508453;7.844987791...                                                                                                                                                                                                                                                                                                                                                                                                                   \n",
      "3  74;1;0;1;33.80081704;1;12.20926555;8.42800135;...                                                                                                                                                                                                                                                                                                                                                                                                                   \n",
      "4  89;0;0;0;20.71697383;0;18.45435609;6.310460689...                                                                                                                                                                                                                                                                                                                                                                                                                   \n"
     ]
    }
   ],
   "source": [
    "import pandas as pd\n",
    "\n",
    "# Leer el archivo \n",
    "data = pd.read_csv('alzheimers_disease_data.csv')\n",
    "\n",
    "# Verificar las primeras filas para asegurarse de que los datos se cargaron correctamente\n",
    "print(data.head())"
   ]
  },
  {
   "cell_type": "code",
   "execution_count": 7,
   "id": "84337199",
   "metadata": {},
   "outputs": [
    {
     "name": "stdout",
     "output_type": "stream",
     "text": [
      "Index(['Age;Gender;Ethnicity;EducationLevel;BMI;Smoking;AlcoholConsumption;PhysicalActivity;DietQuality;SleepQuality;FamilyHistoryAlzheimers;CardiovascularDisease;Diabetes;Depression;HeadInjury;Hypertension;SystolicBP;DiastolicBP;CholesterolTotal;CholesterolLDL;CholesterolHDL;CholesterolTriglycerides;MMSE;FunctionalAssessment;MemoryComplaints;BehavioralProblems;ADL;Confusion;Disorientation;PersonalityChanges;DifficultyCompletingTasks;Forgetfulness;Diagnosis'], dtype='object')\n"
     ]
    }
   ],
   "source": [
    "print(df.columns)"
   ]
  },
  {
   "cell_type": "code",
   "execution_count": 8,
   "id": "21d1701f",
   "metadata": {},
   "outputs": [],
   "source": [
    "df = pd.read_csv('alzheimers_disease_data.csv', sep=';')"
   ]
  },
  {
   "cell_type": "code",
   "execution_count": 12,
   "id": "3bd502db",
   "metadata": {},
   "outputs": [],
   "source": [
    "X = df.drop('Diagnosis', axis=1)\n",
    "y = df['Diagnosis']\n",
    "\n",
    "from sklearn.model_selection import train_test_split\n",
    "\n",
    "X_train, X_test, y_train, y_test = train_test_split(\n",
    "    X, y, test_size=0.2, random_state=42, shuffle=True\n",
    ")\n"
   ]
  },
  {
   "cell_type": "code",
   "execution_count": 13,
   "id": "67616c9f",
   "metadata": {},
   "outputs": [
    {
     "name": "stdout",
     "output_type": "stream",
     "text": [
      "Precisión (Accuracy): 0.6615776081424937\n",
      "\n",
      "Matriz de Confusión:\n",
      " [[1222   70]\n",
      " [ 595   78]]\n",
      "\n",
      "Reporte de Clasificación:\n",
      "               precision    recall  f1-score   support\n",
      "\n",
      "           0       0.67      0.95      0.79      1292\n",
      "           1       0.53      0.12      0.19       673\n",
      "\n",
      "    accuracy                           0.66      1965\n",
      "   macro avg       0.60      0.53      0.49      1965\n",
      "weighted avg       0.62      0.66      0.58      1965\n",
      "\n"
     ]
    }
   ],
   "source": [
    "from sklearn.ensemble import RandomForestClassifier\n",
    "from sklearn.metrics import accuracy_score, classification_report, confusion_matrix\n",
    "\n",
    "# Crear y entrenar el modelo\n",
    "model = RandomForestClassifier(random_state=42)\n",
    "model.fit(X_train, y_train)\n",
    "\n",
    "# Predecir en el conjunto de prueba\n",
    "y_pred = model.predict(X_test)\n",
    "\n",
    "# Evaluar el modelo\n",
    "print(\"Precisión (Accuracy):\", accuracy_score(y_test, y_pred))\n",
    "print(\"\\nMatriz de Confusión:\\n\", confusion_matrix(y_test, y_pred))\n",
    "print(\"\\nReporte de Clasificación:\\n\", classification_report(y_test, y_pred))\n"
   ]
  },
  {
   "cell_type": "code",
   "execution_count": 14,
   "id": "a4981e8e",
   "metadata": {},
   "outputs": [
    {
     "name": "stdout",
     "output_type": "stream",
     "text": [
      "Age                          0\n",
      "Gender                       0\n",
      "Ethnicity                    0\n",
      "EducationLevel               0\n",
      "BMI                          0\n",
      "Smoking                      0\n",
      "AlcoholConsumption           0\n",
      "PhysicalActivity             0\n",
      "DietQuality                  0\n",
      "SleepQuality                 0\n",
      "FamilyHistoryAlzheimers      0\n",
      "CardiovascularDisease        0\n",
      "Diabetes                     0\n",
      "Depression                   0\n",
      "HeadInjury                   0\n",
      "Hypertension                 0\n",
      "SystolicBP                   0\n",
      "DiastolicBP                  0\n",
      "CholesterolTotal             0\n",
      "CholesterolLDL               0\n",
      "CholesterolHDL               0\n",
      "CholesterolTriglycerides     0\n",
      "MMSE                         0\n",
      "FunctionalAssessment         0\n",
      "MemoryComplaints             0\n",
      "BehavioralProblems           0\n",
      "ADL                          0\n",
      "Confusion                    0\n",
      "Disorientation               0\n",
      "PersonalityChanges           0\n",
      "DifficultyCompletingTasks    0\n",
      "Forgetfulness                0\n",
      "Diagnosis                    0\n",
      "dtype: int64\n"
     ]
    }
   ],
   "source": [
    "print(df.isnull().sum())"
   ]
  },
  {
   "cell_type": "code",
   "execution_count": 15,
   "id": "8d76f6db",
   "metadata": {},
   "outputs": [
    {
     "name": "stdout",
     "output_type": "stream",
     "text": [
      "Age                            int64\n",
      "Gender                         int64\n",
      "Ethnicity                      int64\n",
      "EducationLevel                 int64\n",
      "BMI                          float64\n",
      "Smoking                        int64\n",
      "AlcoholConsumption           float64\n",
      "PhysicalActivity             float64\n",
      "DietQuality                  float64\n",
      "SleepQuality                 float64\n",
      "FamilyHistoryAlzheimers        int64\n",
      "CardiovascularDisease          int64\n",
      "Diabetes                       int64\n",
      "Depression                     int64\n",
      "HeadInjury                     int64\n",
      "Hypertension                   int64\n",
      "SystolicBP                     int64\n",
      "DiastolicBP                    int64\n",
      "CholesterolTotal             float64\n",
      "CholesterolLDL               float64\n",
      "CholesterolHDL               float64\n",
      "CholesterolTriglycerides     float64\n",
      "MMSE                         float64\n",
      "FunctionalAssessment         float64\n",
      "MemoryComplaints               int64\n",
      "BehavioralProblems             int64\n",
      "ADL                          float64\n",
      "Confusion                      int64\n",
      "Disorientation                 int64\n",
      "PersonalityChanges             int64\n",
      "DifficultyCompletingTasks      int64\n",
      "Forgetfulness                  int64\n",
      "Diagnosis                      int64\n",
      "dtype: object\n"
     ]
    }
   ],
   "source": [
    "print(df.dtypes)"
   ]
  },
  {
   "cell_type": "code",
   "execution_count": 16,
   "id": "3239bb7b",
   "metadata": {},
   "outputs": [
    {
     "name": "stdout",
     "output_type": "stream",
     "text": [
      "Precisión (Accuracy): 0.6615776081424937\n",
      "\n",
      "Matriz de Confusión:\n",
      " [[1222   70]\n",
      " [ 595   78]]\n",
      "\n",
      "Reporte de Clasificación:\n",
      "               precision    recall  f1-score   support\n",
      "\n",
      "           0       0.67      0.95      0.79      1292\n",
      "           1       0.53      0.12      0.19       673\n",
      "\n",
      "    accuracy                           0.66      1965\n",
      "   macro avg       0.60      0.53      0.49      1965\n",
      "weighted avg       0.62      0.66      0.58      1965\n",
      "\n"
     ]
    }
   ],
   "source": [
    "# Separar las características (X) y la variable objetivo (y)\n",
    "X = df.drop('Diagnosis', axis=1)\n",
    "y = df['Diagnosis']\n",
    "\n",
    "# Dividir en conjunto de entrenamiento (80%) y prueba (20%)\n",
    "from sklearn.model_selection import train_test_split\n",
    "X_train, X_test, y_train, y_test = train_test_split(X, y, test_size=0.2, random_state=42, shuffle=True)\n",
    "\n",
    "# Crear y entrenar el modelo\n",
    "from sklearn.ensemble import RandomForestClassifier\n",
    "model = RandomForestClassifier(random_state=42)\n",
    "model.fit(X_train, y_train)\n",
    "\n",
    "# Predecir en el conjunto de prueba\n",
    "y_pred = model.predict(X_test)\n",
    "\n",
    "# Evaluar el modelo\n",
    "from sklearn.metrics import accuracy_score, classification_report, confusion_matrix\n",
    "print(\"Precisión (Accuracy):\", accuracy_score(y_test, y_pred))\n",
    "print(\"\\nMatriz de Confusión:\\n\", confusion_matrix(y_test, y_pred))\n",
    "print(\"\\nReporte de Clasificación:\\n\", classification_report(y_test, y_pred))\n"
   ]
  },
  {
   "cell_type": "code",
   "execution_count": 19,
   "id": "106dac85",
   "metadata": {},
   "outputs": [
    {
     "data": {
      "text/plain": [
       "['modelo_alzheimer.pkl']"
      ]
     },
     "execution_count": 19,
     "metadata": {},
     "output_type": "execute_result"
    }
   ],
   "source": [
    "import joblib\n",
    "\n",
    "# Guardar el modelo entrenado\n",
    "joblib.dump(model, 'modelo_alzheimer.pkl')\n"
   ]
  },
  {
   "cell_type": "code",
   "execution_count": 22,
   "id": "7de6dd1f",
   "metadata": {},
   "outputs": [
    {
     "name": "stdout",
     "output_type": "stream",
     "text": [
      "Precisión: 0.61\n",
      "Reporte de Clasificación:\n",
      "              precision    recall  f1-score   support\n",
      "\n",
      "           0       0.62      0.94      0.75       306\n",
      "           1       0.49      0.09      0.15       194\n",
      "\n",
      "    accuracy                           0.61       500\n",
      "   macro avg       0.55      0.51      0.45       500\n",
      "weighted avg       0.57      0.61      0.51       500\n",
      "\n"
     ]
    }
   ],
   "source": [
    "# 1. Cargar el modelo (si ya lo guardaste)\n",
    "import joblib\n",
    "\n",
    "modelo = joblib.load('modelo_alzheimer.pkl')  # O .sav, dependiendo cómo lo guardaste\n",
    "\n",
    "# 2. Cargar los 500 datos de prueba\n",
    "import pandas as pd\n",
    "\n",
    "datos_prueba = pd.read_excel('500 de comprobacion.xlsx')  # o el formato que tengas (Excel, CSV, etc.)\n",
    "\n",
    "# 3. Separar las variables independientes (X) de la variable objetivo (y)\n",
    "X_test = datos_prueba.drop('Diagnosis', axis=1)\n",
    "y_test = datos_prueba['Diagnosis']\n",
    "\n",
    "# 4. Hacer la predicción\n",
    "y_pred = modelo.predict(X_test)\n",
    "\n",
    "# 5. Evaluar el modelo\n",
    "from sklearn.metrics import accuracy_score, classification_report\n",
    "\n",
    "print('Precisión:', accuracy_score(y_test, y_pred))\n",
    "print('Reporte de Clasificación:')\n",
    "print(classification_report(y_test, y_pred))\n"
   ]
  },
  {
   "cell_type": "code",
   "execution_count": 23,
   "id": "4a405623",
   "metadata": {},
   "outputs": [],
   "source": [
    "modelo = joblib.load(r'C:\\Users\\ADMIN\\Desktop\\prediccion\\api_alzheimer\\modelo_alzheimer.pkl')"
   ]
  },
  {
   "cell_type": "code",
   "execution_count": 24,
   "id": "c2b8fd9b",
   "metadata": {},
   "outputs": [
    {
     "name": "stdout",
     "output_type": "stream",
     "text": [
      "c:\\Users\\ADMIN\\Desktop\\prediccion\n"
     ]
    }
   ],
   "source": [
    "import os\n",
    "print(os.getcwd())"
   ]
  },
  {
   "cell_type": "code",
   "execution_count": 26,
   "id": "74553ef9",
   "metadata": {},
   "outputs": [],
   "source": [
    "modelo = joblib.load('modelo_alzheimer.pkl')"
   ]
  }
 ],
 "metadata": {
  "kernelspec": {
   "display_name": "Python 3",
   "language": "python",
   "name": "python3"
  },
  "language_info": {
   "codemirror_mode": {
    "name": "ipython",
    "version": 3
   },
   "file_extension": ".py",
   "mimetype": "text/x-python",
   "name": "python",
   "nbconvert_exporter": "python",
   "pygments_lexer": "ipython3",
   "version": "3.13.3"
  }
 },
 "nbformat": 4,
 "nbformat_minor": 5
}
